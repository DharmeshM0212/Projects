{
  "nbformat": 4,
  "nbformat_minor": 0,
  "metadata": {
    "colab": {
      "provenance": []
    },
    "kernelspec": {
      "name": "python3",
      "display_name": "Python 3"
    },
    "language_info": {
      "name": "python"
    }
  },
  "cells": [
    {
      "cell_type": "markdown",
      "source": [
        "**DOWNLOADING FROM KAGGLE**"
      ],
      "metadata": {
        "id": "AjxfXQc_BCpD"
      }
    },
    {
      "cell_type": "code",
      "execution_count": 9,
      "metadata": {
        "colab": {
          "base_uri": "https://localhost:8080/",
          "height": 90
        },
        "id": "ILO2_Ukzy5rj",
        "outputId": "131af7b7-ca61-453f-fde4-4acdcae56953"
      },
      "outputs": [
        {
          "output_type": "display_data",
          "data": {
            "text/plain": [
              "<IPython.core.display.HTML object>"
            ],
            "text/html": [
              "\n",
              "     <input type=\"file\" id=\"files-6c8f24a4-8f1d-4add-9d41-f7d7fedd0737\" name=\"files[]\" multiple disabled\n",
              "        style=\"border:none\" />\n",
              "     <output id=\"result-6c8f24a4-8f1d-4add-9d41-f7d7fedd0737\">\n",
              "      Upload widget is only available when the cell has been executed in the\n",
              "      current browser session. Please rerun this cell to enable.\n",
              "      </output>\n",
              "      <script>// Copyright 2017 Google LLC\n",
              "//\n",
              "// Licensed under the Apache License, Version 2.0 (the \"License\");\n",
              "// you may not use this file except in compliance with the License.\n",
              "// You may obtain a copy of the License at\n",
              "//\n",
              "//      http://www.apache.org/licenses/LICENSE-2.0\n",
              "//\n",
              "// Unless required by applicable law or agreed to in writing, software\n",
              "// distributed under the License is distributed on an \"AS IS\" BASIS,\n",
              "// WITHOUT WARRANTIES OR CONDITIONS OF ANY KIND, either express or implied.\n",
              "// See the License for the specific language governing permissions and\n",
              "// limitations under the License.\n",
              "\n",
              "/**\n",
              " * @fileoverview Helpers for google.colab Python module.\n",
              " */\n",
              "(function(scope) {\n",
              "function span(text, styleAttributes = {}) {\n",
              "  const element = document.createElement('span');\n",
              "  element.textContent = text;\n",
              "  for (const key of Object.keys(styleAttributes)) {\n",
              "    element.style[key] = styleAttributes[key];\n",
              "  }\n",
              "  return element;\n",
              "}\n",
              "\n",
              "// Max number of bytes which will be uploaded at a time.\n",
              "const MAX_PAYLOAD_SIZE = 100 * 1024;\n",
              "\n",
              "function _uploadFiles(inputId, outputId) {\n",
              "  const steps = uploadFilesStep(inputId, outputId);\n",
              "  const outputElement = document.getElementById(outputId);\n",
              "  // Cache steps on the outputElement to make it available for the next call\n",
              "  // to uploadFilesContinue from Python.\n",
              "  outputElement.steps = steps;\n",
              "\n",
              "  return _uploadFilesContinue(outputId);\n",
              "}\n",
              "\n",
              "// This is roughly an async generator (not supported in the browser yet),\n",
              "// where there are multiple asynchronous steps and the Python side is going\n",
              "// to poll for completion of each step.\n",
              "// This uses a Promise to block the python side on completion of each step,\n",
              "// then passes the result of the previous step as the input to the next step.\n",
              "function _uploadFilesContinue(outputId) {\n",
              "  const outputElement = document.getElementById(outputId);\n",
              "  const steps = outputElement.steps;\n",
              "\n",
              "  const next = steps.next(outputElement.lastPromiseValue);\n",
              "  return Promise.resolve(next.value.promise).then((value) => {\n",
              "    // Cache the last promise value to make it available to the next\n",
              "    // step of the generator.\n",
              "    outputElement.lastPromiseValue = value;\n",
              "    return next.value.response;\n",
              "  });\n",
              "}\n",
              "\n",
              "/**\n",
              " * Generator function which is called between each async step of the upload\n",
              " * process.\n",
              " * @param {string} inputId Element ID of the input file picker element.\n",
              " * @param {string} outputId Element ID of the output display.\n",
              " * @return {!Iterable<!Object>} Iterable of next steps.\n",
              " */\n",
              "function* uploadFilesStep(inputId, outputId) {\n",
              "  const inputElement = document.getElementById(inputId);\n",
              "  inputElement.disabled = false;\n",
              "\n",
              "  const outputElement = document.getElementById(outputId);\n",
              "  outputElement.innerHTML = '';\n",
              "\n",
              "  const pickedPromise = new Promise((resolve) => {\n",
              "    inputElement.addEventListener('change', (e) => {\n",
              "      resolve(e.target.files);\n",
              "    });\n",
              "  });\n",
              "\n",
              "  const cancel = document.createElement('button');\n",
              "  inputElement.parentElement.appendChild(cancel);\n",
              "  cancel.textContent = 'Cancel upload';\n",
              "  const cancelPromise = new Promise((resolve) => {\n",
              "    cancel.onclick = () => {\n",
              "      resolve(null);\n",
              "    };\n",
              "  });\n",
              "\n",
              "  // Wait for the user to pick the files.\n",
              "  const files = yield {\n",
              "    promise: Promise.race([pickedPromise, cancelPromise]),\n",
              "    response: {\n",
              "      action: 'starting',\n",
              "    }\n",
              "  };\n",
              "\n",
              "  cancel.remove();\n",
              "\n",
              "  // Disable the input element since further picks are not allowed.\n",
              "  inputElement.disabled = true;\n",
              "\n",
              "  if (!files) {\n",
              "    return {\n",
              "      response: {\n",
              "        action: 'complete',\n",
              "      }\n",
              "    };\n",
              "  }\n",
              "\n",
              "  for (const file of files) {\n",
              "    const li = document.createElement('li');\n",
              "    li.append(span(file.name, {fontWeight: 'bold'}));\n",
              "    li.append(span(\n",
              "        `(${file.type || 'n/a'}) - ${file.size} bytes, ` +\n",
              "        `last modified: ${\n",
              "            file.lastModifiedDate ? file.lastModifiedDate.toLocaleDateString() :\n",
              "                                    'n/a'} - `));\n",
              "    const percent = span('0% done');\n",
              "    li.appendChild(percent);\n",
              "\n",
              "    outputElement.appendChild(li);\n",
              "\n",
              "    const fileDataPromise = new Promise((resolve) => {\n",
              "      const reader = new FileReader();\n",
              "      reader.onload = (e) => {\n",
              "        resolve(e.target.result);\n",
              "      };\n",
              "      reader.readAsArrayBuffer(file);\n",
              "    });\n",
              "    // Wait for the data to be ready.\n",
              "    let fileData = yield {\n",
              "      promise: fileDataPromise,\n",
              "      response: {\n",
              "        action: 'continue',\n",
              "      }\n",
              "    };\n",
              "\n",
              "    // Use a chunked sending to avoid message size limits. See b/62115660.\n",
              "    let position = 0;\n",
              "    do {\n",
              "      const length = Math.min(fileData.byteLength - position, MAX_PAYLOAD_SIZE);\n",
              "      const chunk = new Uint8Array(fileData, position, length);\n",
              "      position += length;\n",
              "\n",
              "      const base64 = btoa(String.fromCharCode.apply(null, chunk));\n",
              "      yield {\n",
              "        response: {\n",
              "          action: 'append',\n",
              "          file: file.name,\n",
              "          data: base64,\n",
              "        },\n",
              "      };\n",
              "\n",
              "      let percentDone = fileData.byteLength === 0 ?\n",
              "          100 :\n",
              "          Math.round((position / fileData.byteLength) * 100);\n",
              "      percent.textContent = `${percentDone}% done`;\n",
              "\n",
              "    } while (position < fileData.byteLength);\n",
              "  }\n",
              "\n",
              "  // All done.\n",
              "  yield {\n",
              "    response: {\n",
              "      action: 'complete',\n",
              "    }\n",
              "  };\n",
              "}\n",
              "\n",
              "scope.google = scope.google || {};\n",
              "scope.google.colab = scope.google.colab || {};\n",
              "scope.google.colab._files = {\n",
              "  _uploadFiles,\n",
              "  _uploadFilesContinue,\n",
              "};\n",
              "})(self);\n",
              "</script> "
            ]
          },
          "metadata": {}
        },
        {
          "output_type": "stream",
          "name": "stdout",
          "text": [
            "Saving kaggle.json to kaggle (1).json\n"
          ]
        },
        {
          "output_type": "execute_result",
          "data": {
            "text/plain": [
              "{'kaggle.json': b'{\"username\":\"dharmeshm\",\"key\":\"e452766decf5eb27950a9c62238bb17e\"}'}"
            ]
          },
          "metadata": {},
          "execution_count": 9
        }
      ],
      "source": [
        "from google.colab import files\n",
        "files.upload()"
      ]
    },
    {
      "cell_type": "code",
      "source": [
        "! cp kaggle.json ~/.kaggle/\n",
        "! chmod 600 ~/.kaggle/kaggle.json\n",
        "! kaggle datasets list"
      ],
      "metadata": {
        "colab": {
          "base_uri": "https://localhost:8080/"
        },
        "id": "jh8vNZAmzYYN",
        "outputId": "73cc7552-64eb-4806-d785-029313d9934b"
      },
      "execution_count": 10,
      "outputs": [
        {
          "output_type": "stream",
          "name": "stdout",
          "text": [
            "ref                                                       title                                              size  lastUpdated          downloadCount  voteCount  usabilityRating  \n",
            "--------------------------------------------------------  ------------------------------------------------  -----  -------------------  -------------  ---------  ---------------  \n",
            "arnabchaki/data-science-salaries-2023                     Data Science Salaries 2023 💸                       25KB  2023-04-13 09:55:16          13618        366  1.0              \n",
            "chitrakumari25/corona-virus-latest-data-2023              Corona virus latest data 2023                      10KB  2023-04-29 16:00:51           1125         32  1.0              \n",
            "utkarshx27/starbucks-nutrition                            Starbucks Nutrition Facts                           2KB  2023-05-10 05:42:59            651         26  1.0              \n",
            "utkarshx27/monthly-transportation-statistics              Monthly Transportation Statistics                 131KB  2023-05-02 02:43:50           1018         28  1.0              \n",
            "iammustafatz/diabetes-prediction-dataset                  Diabetes prediction dataset                       734KB  2023-04-08 06:11:45           6957         99  1.0              \n",
            "desalegngeb/students-exam-scores                          Students Exam Scores: Extended Dataset            695KB  2023-04-14 00:15:38           5416        117  1.0              \n",
            "bourdier/all-tv-series-details-dataset                    Weekly TV Series Update Dataset                    56MB  2023-05-10 20:41:10            599         21  0.9411765        \n",
            "utkarshx27/smoking-dataset-from-uk                        Smoking Dataset from UK                            17KB  2023-05-10 05:41:12            886         31  1.0              \n",
            "mykhailozub/500-hotels-from-airbnb-booking-and-hotelscom  7500 hotels from Airbnb, Booking and Hotels.com   428KB  2023-05-04 15:37:17            522         23  1.0              \n",
            "ahmedshahriarsakib/usa-real-estate-dataset                USA Real Estate Dataset                             1MB  2023-04-30 03:51:36           1769         47  1.0              \n",
            "asahu40/walmart-data-analysis-and-forcasting              Walmart Data Analysis and Forcasting              122KB  2023-04-26 07:07:03           2079         48  1.0              \n",
            "nishantbhardwaj07/airindia-monthly-passenger-traffic      AirIndia Monthly Passenger Traffic                  6KB  2023-04-20 11:26:18            737         22  1.0              \n",
            "utkarshx27/real-estate-sales-2001-2020-gl                 Real Estate Sales 2001-2020 GL                     33MB  2023-05-05 04:22:05            726         25  1.0              \n",
            "sougatapramanick/happiness-index-2018-2019                Happiness Index 2018-2019                          15KB  2023-04-14 12:01:03           2328         43  1.0              \n",
            "olcaybolat1/dermatology-dataset-classification            Dermatology Dataset (Multi-class classification)    5KB  2023-05-09 11:21:39            283         26  1.0              \n",
            "utkarshx27/suicide-attempts-in-shandong-china             Suicide Attempts in Shandong, China                29KB  2023-05-06 11:54:22            679         29  1.0              \n",
            "r1shabhgupta/best-movies-on-netflix                       Top 100 Movies on Netflix                          32KB  2023-04-13 15:34:38           1656         43  1.0              \n",
            "salvatorerastelli/spotify-and-youtube                     Spotify and Youtube                                 9MB  2023-03-20 15:43:25          14438        454  1.0              \n",
            "mohamedafsal007/house-price-dataset-of-india              House Price dataset of India                      480KB  2023-03-27 06:22:55          10929        106  0.88235295       \n",
            "utkarshx27/arrests-for-marijuana-possession               Arrests for Marijuana Possession                   32KB  2023-05-08 10:17:21            746         25  1.0              \n"
          ]
        }
      ]
    },
    {
      "cell_type": "code",
      "source": [
        "import kaggle\n",
        "!kaggle datasets download -d iamsouravbanerjee/animal-image-dataset-90-different-animals"
      ],
      "metadata": {
        "colab": {
          "base_uri": "https://localhost:8080/"
        },
        "id": "VkjXpVyyzju8",
        "outputId": "0a46173b-3e8f-41ba-80da-eb53f3300c10"
      },
      "execution_count": 11,
      "outputs": [
        {
          "output_type": "stream",
          "name": "stdout",
          "text": [
            "Downloading animal-image-dataset-90-different-animals.zip to /content\n",
            " 99% 648M/656M [00:07<00:00, 149MB/s]\n",
            "100% 656M/656M [00:07<00:00, 89.5MB/s]\n"
          ]
        }
      ]
    },
    {
      "cell_type": "code",
      "source": [
        "!unzip 'animal-image-dataset-90-different-animals.zip'"
      ],
      "metadata": {
        "colab": {
          "base_uri": "https://localhost:8080/"
        },
        "id": "eWhOBB1cz8cV",
        "outputId": "154d5b0f-1046-4ec2-884a-0970b4bb6499"
      },
      "execution_count": 13,
      "outputs": [
        {
          "output_type": "stream",
          "name": "stdout",
          "text": [
            "Archive:  animal-image-dataset-90-different-animals.zip\n",
            "replace animals/animals/antelope/02f4b3be2d.jpg? [y]es, [n]o, [A]ll, [N]one, [r]ename: "
          ]
        }
      ]
    },
    {
      "cell_type": "code",
      "source": [
        "import tensorflow as tf\n",
        "from tensorflow.keras.preprocessing import image_dataset_from_directory\n",
        "from tensorflow.keras.layers import Dense, GlobalMaxPooling2D, Dropout,MaxPooling2D,Conv2D,Flatten,GlobalAveragePooling2D\n",
        "from tensorflow.keras.models import Sequential\n",
        "from tensorflow.keras.preprocessing.image import ImageDataGenerator"
      ],
      "metadata": {
        "id": "pTWF22Yg0GBZ"
      },
      "execution_count": 14,
      "outputs": []
    },
    {
      "cell_type": "code",
      "source": [
        "train_datagen=ImageDataGenerator(rescale=1./255)\n",
        "test_datagen=ImageDataGenerator(rescale=1./255)"
      ],
      "metadata": {
        "id": "eQ3PKyPb1H9_"
      },
      "execution_count": 15,
      "outputs": []
    },
    {
      "cell_type": "code",
      "source": [
        "x_train=train_datagen.flow_from_directory(r\"/content/animals/animals\",target_size=(64,64),\n",
        "                                        class_mode='categorical',batch_size=40)"
      ],
      "metadata": {
        "colab": {
          "base_uri": "https://localhost:8080/"
        },
        "id": "7bwmO6mY1YGd",
        "outputId": "c236dd66-30f9-4ee4-9314-271783e821aa"
      },
      "execution_count": 16,
      "outputs": [
        {
          "output_type": "stream",
          "name": "stdout",
          "text": [
            "Found 5400 images belonging to 90 classes.\n"
          ]
        }
      ]
    },
    {
      "cell_type": "code",
      "source": [
        "x_train.class_indices"
      ],
      "metadata": {
        "colab": {
          "base_uri": "https://localhost:8080/"
        },
        "id": "-Tl8Xkqz1rf-",
        "outputId": "cf9cbac4-4bd7-49c4-fb29-5fb63a41a828"
      },
      "execution_count": 17,
      "outputs": [
        {
          "output_type": "execute_result",
          "data": {
            "text/plain": [
              "{'antelope': 0,\n",
              " 'badger': 1,\n",
              " 'bat': 2,\n",
              " 'bear': 3,\n",
              " 'bee': 4,\n",
              " 'beetle': 5,\n",
              " 'bison': 6,\n",
              " 'boar': 7,\n",
              " 'butterfly': 8,\n",
              " 'cat': 9,\n",
              " 'caterpillar': 10,\n",
              " 'chimpanzee': 11,\n",
              " 'cockroach': 12,\n",
              " 'cow': 13,\n",
              " 'coyote': 14,\n",
              " 'crab': 15,\n",
              " 'crow': 16,\n",
              " 'deer': 17,\n",
              " 'dog': 18,\n",
              " 'dolphin': 19,\n",
              " 'donkey': 20,\n",
              " 'dragonfly': 21,\n",
              " 'duck': 22,\n",
              " 'eagle': 23,\n",
              " 'elephant': 24,\n",
              " 'flamingo': 25,\n",
              " 'fly': 26,\n",
              " 'fox': 27,\n",
              " 'goat': 28,\n",
              " 'goldfish': 29,\n",
              " 'goose': 30,\n",
              " 'gorilla': 31,\n",
              " 'grasshopper': 32,\n",
              " 'hamster': 33,\n",
              " 'hare': 34,\n",
              " 'hedgehog': 35,\n",
              " 'hippopotamus': 36,\n",
              " 'hornbill': 37,\n",
              " 'horse': 38,\n",
              " 'hummingbird': 39,\n",
              " 'hyena': 40,\n",
              " 'jellyfish': 41,\n",
              " 'kangaroo': 42,\n",
              " 'koala': 43,\n",
              " 'ladybugs': 44,\n",
              " 'leopard': 45,\n",
              " 'lion': 46,\n",
              " 'lizard': 47,\n",
              " 'lobster': 48,\n",
              " 'mosquito': 49,\n",
              " 'moth': 50,\n",
              " 'mouse': 51,\n",
              " 'octopus': 52,\n",
              " 'okapi': 53,\n",
              " 'orangutan': 54,\n",
              " 'otter': 55,\n",
              " 'owl': 56,\n",
              " 'ox': 57,\n",
              " 'oyster': 58,\n",
              " 'panda': 59,\n",
              " 'parrot': 60,\n",
              " 'pelecaniformes': 61,\n",
              " 'penguin': 62,\n",
              " 'pig': 63,\n",
              " 'pigeon': 64,\n",
              " 'porcupine': 65,\n",
              " 'possum': 66,\n",
              " 'raccoon': 67,\n",
              " 'rat': 68,\n",
              " 'reindeer': 69,\n",
              " 'rhinoceros': 70,\n",
              " 'sandpiper': 71,\n",
              " 'seahorse': 72,\n",
              " 'seal': 73,\n",
              " 'shark': 74,\n",
              " 'sheep': 75,\n",
              " 'snake': 76,\n",
              " 'sparrow': 77,\n",
              " 'squid': 78,\n",
              " 'squirrel': 79,\n",
              " 'starfish': 80,\n",
              " 'swan': 81,\n",
              " 'tiger': 82,\n",
              " 'turkey': 83,\n",
              " 'turtle': 84,\n",
              " 'whale': 85,\n",
              " 'wolf': 86,\n",
              " 'wombat': 87,\n",
              " 'woodpecker': 88,\n",
              " 'zebra': 89}"
            ]
          },
          "metadata": {},
          "execution_count": 17
        }
      ]
    },
    {
      "cell_type": "markdown",
      "source": [
        "**MODEL TRAINING**"
      ],
      "metadata": {
        "id": "KttO6ULjA9pE"
      }
    },
    {
      "cell_type": "code",
      "source": [
        "model=Sequential()\n",
        "model.add(Conv2D(32,(3,3),input_shape=(64,64,3),activation='relu'))\n",
        "model.add(MaxPooling2D(pool_size=(2,2)))\n",
        "model.add(Flatten())\n",
        "model.add(Dense(200,activation=\"relu\"))\n",
        "model.add(Dense(400,activation=\"relu\"))\n",
        "model.add(Dense(600,activation=\"relu\"))\n",
        "model.add(Dense(90,activation=\"softmax\"))"
      ],
      "metadata": {
        "id": "eZJnNLjF11O4"
      },
      "execution_count": 18,
      "outputs": []
    },
    {
      "cell_type": "code",
      "source": [
        "model.summary()"
      ],
      "metadata": {
        "colab": {
          "base_uri": "https://localhost:8080/"
        },
        "id": "0-8NZbXq2To4",
        "outputId": "5c9ce252-827b-4f0a-a248-ca86ab997f7d"
      },
      "execution_count": 19,
      "outputs": [
        {
          "output_type": "stream",
          "name": "stdout",
          "text": [
            "Model: \"sequential\"\n",
            "_________________________________________________________________\n",
            " Layer (type)                Output Shape              Param #   \n",
            "=================================================================\n",
            " conv2d (Conv2D)             (None, 62, 62, 32)        896       \n",
            "                                                                 \n",
            " max_pooling2d (MaxPooling2D  (None, 31, 31, 32)       0         \n",
            " )                                                               \n",
            "                                                                 \n",
            " flatten (Flatten)           (None, 30752)             0         \n",
            "                                                                 \n",
            " dense (Dense)               (None, 200)               6150600   \n",
            "                                                                 \n",
            " dense_1 (Dense)             (None, 400)               80400     \n",
            "                                                                 \n",
            " dense_2 (Dense)             (None, 600)               240600    \n",
            "                                                                 \n",
            " dense_3 (Dense)             (None, 90)                54090     \n",
            "                                                                 \n",
            "=================================================================\n",
            "Total params: 6,526,586\n",
            "Trainable params: 6,526,586\n",
            "Non-trainable params: 0\n",
            "_________________________________________________________________\n"
          ]
        }
      ]
    },
    {
      "cell_type": "code",
      "source": [
        "model.compile(loss='categorical_crossentropy',optimizer='adam',metrics=['accuracy'])\n",
        "len(x_train)"
      ],
      "metadata": {
        "colab": {
          "base_uri": "https://localhost:8080/"
        },
        "id": "wp0WzqIN2Z2m",
        "outputId": "2a14d461-4f27-4a82-dc09-0ade1971a0e7"
      },
      "execution_count": 20,
      "outputs": [
        {
          "output_type": "execute_result",
          "data": {
            "text/plain": [
              "135"
            ]
          },
          "metadata": {},
          "execution_count": 20
        }
      ]
    },
    {
      "cell_type": "code",
      "source": [
        "model.fit_generator(x_train,steps_per_epoch=len(x_train),epochs=10)"
      ],
      "metadata": {
        "colab": {
          "base_uri": "https://localhost:8080/"
        },
        "id": "FXRk8Yjs3ANi",
        "outputId": "85191994-d4fa-448a-e7f6-a50207f6167a"
      },
      "execution_count": 21,
      "outputs": [
        {
          "output_type": "stream",
          "name": "stderr",
          "text": [
            "<ipython-input-21-f67509c15c73>:1: UserWarning: `Model.fit_generator` is deprecated and will be removed in a future version. Please use `Model.fit`, which supports generators.\n",
            "  model.fit_generator(x_train,steps_per_epoch=len(x_train),epochs=10)\n"
          ]
        },
        {
          "output_type": "stream",
          "name": "stdout",
          "text": [
            "Epoch 1/10\n",
            "135/135 [==============================] - 102s 743ms/step - loss: 4.3688 - accuracy: 0.0335\n",
            "Epoch 2/10\n",
            "135/135 [==============================] - 98s 724ms/step - loss: 3.7953 - accuracy: 0.1017\n",
            "Epoch 3/10\n",
            "135/135 [==============================] - 99s 734ms/step - loss: 2.9750 - accuracy: 0.2544\n",
            "Epoch 4/10\n",
            "135/135 [==============================] - 101s 750ms/step - loss: 2.0066 - accuracy: 0.4628\n",
            "Epoch 5/10\n",
            "135/135 [==============================] - 98s 728ms/step - loss: 1.0751 - accuracy: 0.7033\n",
            "Epoch 6/10\n",
            "135/135 [==============================] - 101s 739ms/step - loss: 0.5050 - accuracy: 0.8606\n",
            "Epoch 7/10\n",
            "135/135 [==============================] - 101s 746ms/step - loss: 0.2475 - accuracy: 0.9331\n",
            "Epoch 8/10\n",
            "135/135 [==============================] - 101s 745ms/step - loss: 0.1996 - accuracy: 0.9467\n",
            "Epoch 9/10\n",
            "135/135 [==============================] - 107s 796ms/step - loss: 0.1532 - accuracy: 0.9630\n",
            "Epoch 10/10\n",
            "135/135 [==============================] - 102s 752ms/step - loss: 0.0851 - accuracy: 0.9800\n"
          ]
        },
        {
          "output_type": "execute_result",
          "data": {
            "text/plain": [
              "<keras.callbacks.History at 0x7f772e0a99f0>"
            ]
          },
          "metadata": {},
          "execution_count": 21
        }
      ]
    },
    {
      "cell_type": "code",
      "source": [
        "model.save('animal.h5')"
      ],
      "metadata": {
        "id": "MwUWv9Lf3HiT"
      },
      "execution_count": 22,
      "outputs": []
    },
    {
      "cell_type": "code",
      "source": [
        "list1=list(x_train.class_indices.keys())"
      ],
      "metadata": {
        "id": "KXKAt1MO8gaQ"
      },
      "execution_count": 23,
      "outputs": []
    },
    {
      "cell_type": "code",
      "source": [
        "list1"
      ],
      "metadata": {
        "colab": {
          "base_uri": "https://localhost:8080/"
        },
        "id": "NsXF6Zdy9qv_",
        "outputId": "7e6dac63-2980-4e42-8db6-b607bd3deb54"
      },
      "execution_count": 24,
      "outputs": [
        {
          "output_type": "execute_result",
          "data": {
            "text/plain": [
              "['antelope',\n",
              " 'badger',\n",
              " 'bat',\n",
              " 'bear',\n",
              " 'bee',\n",
              " 'beetle',\n",
              " 'bison',\n",
              " 'boar',\n",
              " 'butterfly',\n",
              " 'cat',\n",
              " 'caterpillar',\n",
              " 'chimpanzee',\n",
              " 'cockroach',\n",
              " 'cow',\n",
              " 'coyote',\n",
              " 'crab',\n",
              " 'crow',\n",
              " 'deer',\n",
              " 'dog',\n",
              " 'dolphin',\n",
              " 'donkey',\n",
              " 'dragonfly',\n",
              " 'duck',\n",
              " 'eagle',\n",
              " 'elephant',\n",
              " 'flamingo',\n",
              " 'fly',\n",
              " 'fox',\n",
              " 'goat',\n",
              " 'goldfish',\n",
              " 'goose',\n",
              " 'gorilla',\n",
              " 'grasshopper',\n",
              " 'hamster',\n",
              " 'hare',\n",
              " 'hedgehog',\n",
              " 'hippopotamus',\n",
              " 'hornbill',\n",
              " 'horse',\n",
              " 'hummingbird',\n",
              " 'hyena',\n",
              " 'jellyfish',\n",
              " 'kangaroo',\n",
              " 'koala',\n",
              " 'ladybugs',\n",
              " 'leopard',\n",
              " 'lion',\n",
              " 'lizard',\n",
              " 'lobster',\n",
              " 'mosquito',\n",
              " 'moth',\n",
              " 'mouse',\n",
              " 'octopus',\n",
              " 'okapi',\n",
              " 'orangutan',\n",
              " 'otter',\n",
              " 'owl',\n",
              " 'ox',\n",
              " 'oyster',\n",
              " 'panda',\n",
              " 'parrot',\n",
              " 'pelecaniformes',\n",
              " 'penguin',\n",
              " 'pig',\n",
              " 'pigeon',\n",
              " 'porcupine',\n",
              " 'possum',\n",
              " 'raccoon',\n",
              " 'rat',\n",
              " 'reindeer',\n",
              " 'rhinoceros',\n",
              " 'sandpiper',\n",
              " 'seahorse',\n",
              " 'seal',\n",
              " 'shark',\n",
              " 'sheep',\n",
              " 'snake',\n",
              " 'sparrow',\n",
              " 'squid',\n",
              " 'squirrel',\n",
              " 'starfish',\n",
              " 'swan',\n",
              " 'tiger',\n",
              " 'turkey',\n",
              " 'turtle',\n",
              " 'whale',\n",
              " 'wolf',\n",
              " 'wombat',\n",
              " 'woodpecker',\n",
              " 'zebra']"
            ]
          },
          "metadata": {},
          "execution_count": 24
        }
      ]
    },
    {
      "cell_type": "markdown",
      "source": [
        "**MODEL TESTING**"
      ],
      "metadata": {
        "id": "jVnuywqJA5Eu"
      }
    },
    {
      "cell_type": "code",
      "source": [
        "from tensorflow.keras.preprocessing import image\n",
        "import numpy as np"
      ],
      "metadata": {
        "id": "HZPAYziB-lK_"
      },
      "execution_count": 25,
      "outputs": []
    },
    {
      "cell_type": "code",
      "source": [
        "img = image.load_img('/content/animals/animals/seahorse/1ef4eeecc7.jpg',target_size=(64,64)) # Reading image\n",
        "x = image.img_to_array(img) # Converting image into array\n",
        "x = np.expand_dims(x,axis=0) # expanding Dimensions\n",
        "pred = np.argmax(model.predict(x)) # Predicting the higher probablity index\n",
        " # Creating list\n",
        "list1[pred] # List indexing with output"
      ],
      "metadata": {
        "colab": {
          "base_uri": "https://localhost:8080/",
          "height": 52
        },
        "id": "YEHdGEG49r4T",
        "outputId": "66c2abd3-c6e1-43d0-a5ea-504fa55df341"
      },
      "execution_count": 26,
      "outputs": [
        {
          "output_type": "stream",
          "name": "stdout",
          "text": [
            "1/1 [==============================] - 0s 199ms/step\n"
          ]
        },
        {
          "output_type": "execute_result",
          "data": {
            "text/plain": [
              "'seahorse'"
            ],
            "application/vnd.google.colaboratory.intrinsic+json": {
              "type": "string"
            }
          },
          "metadata": {},
          "execution_count": 26
        }
      ]
    },
    {
      "cell_type": "code",
      "source": [],
      "metadata": {
        "id": "m8ozpxAm-6NS"
      },
      "execution_count": null,
      "outputs": []
    }
  ]
}